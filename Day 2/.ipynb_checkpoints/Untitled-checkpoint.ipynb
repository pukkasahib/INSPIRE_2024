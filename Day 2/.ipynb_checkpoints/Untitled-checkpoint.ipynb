{
 "cells": [
  {
   "cell_type": "code",
   "execution_count": 2,
   "id": "9966103f-101c-4179-8bff-1da9dd0a54d7",
   "metadata": {},
   "outputs": [],
   "source": [
    "import MDAnalysis as mda\n",
    "from MDAnalysis.analysis import align\n",
    "import re\n",
    "import numpy as np\n",
    "import pandas as pd\n",
    "import matplotlib.pyplot as plt\n",
    "import glob as glob\n",
    "import pickle \n",
    "import os\n",
    "\n",
    "%matplotlib inline"
   ]
  },
  {
   "cell_type": "code",
   "execution_count": null,
   "id": "5e348403-e030-4469-a61c-a7afd4d27201",
   "metadata": {},
   "outputs": [],
   "source": []
  },
  {
   "cell_type": "markdown",
   "id": "66a88b3b-801f-4cc7-9294-9d2c62907306",
   "metadata": {},
   "source": [
    "## Create the atom_selection strings for each crystal structure's 'topologically equivalent' residues, with reference to the multiple sequence alignment\n",
    "- We will then append each selection string to the corresponding entry in the crystal structure dictionary. This will streamline our work, for example when computing PCA.\n",
    "- This requires a clustalOmega MSA input.\n",
    "- !! clustal omega outputs a file that has a line structure as: 'pdbid \\n sequence'.\n",
    "    - Therefore, we include in the script a way to take the pdbid and the corresponding msa. This way we don't need to manually manipulate the files."
   ]
  },
  {
   "cell_type": "markdown",
   "id": "3a69349e-a47c-4c9b-8e4f-60f149b85ecd",
   "metadata": {},
   "source": [
    "## We can visualize what the MSA looks like after aligning the sequences of the 73 crystal structures of A2A:\n",
    "![](pics/msa_topologicallyEquivResidues_a2a.png)"
   ]
  },
  {
   "cell_type": "code",
   "execution_count": 5,
   "id": "a5cbc8c1-0300-42c8-8045-f3faca657bc0",
   "metadata": {},
   "outputs": [
    {
     "name": "stderr",
     "output_type": "stream",
     "text": [
      "C:\\Users\\wular\\anaconda3\\envs\\inspire24\\Lib\\site-packages\\MDAnalysis\\coordinates\\PDB.py:453: UserWarning: 1 A^3 CRYST1 record, this is usually a placeholder. Unit cell dimensions will be set to None.\n",
      "  warnings.warn(\"1 A^3 CRYST1 record,\"\n"
     ]
    },
    {
     "name": "stdout",
     "output_type": "stream",
     "text": [
      "Working on construct 1 of 73.\r"
     ]
    },
    {
     "ename": "IndexError",
     "evalue": "index 327 is out of bounds for axis 0 with size 327",
     "output_type": "error",
     "traceback": [
      "\u001b[1;31m---------------------------------------------------------------------------\u001b[0m",
      "\u001b[1;31mIndexError\u001b[0m                                Traceback (most recent call last)",
      "Cell \u001b[1;32mIn[5], line 62\u001b[0m\n\u001b[0;32m     60\u001b[0m counter \u001b[38;5;241m+\u001b[39m\u001b[38;5;241m=\u001b[39m \u001b[38;5;241m1\u001b[39m                                  \u001b[38;5;66;03m# +1 when hit a residue (resindex, not resid)\u001b[39;00m\n\u001b[0;32m     61\u001b[0m \u001b[38;5;28;01mif\u001b[39;00m np\u001b[38;5;241m.\u001b[39mall(alignment_array\u001b[38;5;241m.\u001b[39mT[i] \u001b[38;5;241m==\u001b[39m \u001b[38;5;241m1\u001b[39m):         \u001b[38;5;66;03m# iff col has all '1's (i.e. all crystals have a res here)\u001b[39;00m\n\u001b[1;32m---> 62\u001b[0m     listofresidues[j]\u001b[38;5;241m.\u001b[39mappend(\u001b[43mcrystal_unis\u001b[49m\u001b[43m[\u001b[49m\u001b[43mj\u001b[49m\u001b[43m]\u001b[49m\u001b[38;5;241;43m.\u001b[39;49m\u001b[43mresidues\u001b[49m\u001b[43m[\u001b[49m\u001b[43mcounter\u001b[49m\u001b[43m]\u001b[49m\u001b[38;5;241m.\u001b[39mresid) \u001b[38;5;66;03m# append j-th crystal resid based on the resindex (!! NOT resnum !!)\u001b[39;00m\n\u001b[0;32m     63\u001b[0m \u001b[38;5;28;01melse\u001b[39;00m:\n\u001b[0;32m     64\u001b[0m     \u001b[38;5;28;01mcontinue\u001b[39;00m\n",
      "File \u001b[1;32m~\\anaconda3\\envs\\inspire24\\Lib\\site-packages\\MDAnalysis\\core\\groups.py:592\u001b[0m, in \u001b[0;36mGroupBase.__getitem__\u001b[1;34m(self, item)\u001b[0m\n\u001b[0;32m    590\u001b[0m     \u001b[38;5;28;01mraise\u001b[39;00m \u001b[38;5;167;01mTypeError\u001b[39;00m(\u001b[38;5;124m'\u001b[39m\u001b[38;5;124mNone cannot be used to index a group.\u001b[39m\u001b[38;5;124m'\u001b[39m)\n\u001b[0;32m    591\u001b[0m \u001b[38;5;28;01melif\u001b[39;00m \u001b[38;5;28misinstance\u001b[39m(item, numbers\u001b[38;5;241m.\u001b[39mIntegral):\n\u001b[1;32m--> 592\u001b[0m     \u001b[38;5;28;01mreturn\u001b[39;00m \u001b[38;5;28mself\u001b[39m\u001b[38;5;241m.\u001b[39mlevel\u001b[38;5;241m.\u001b[39msingular(\u001b[38;5;28;43mself\u001b[39;49m\u001b[38;5;241;43m.\u001b[39;49m\u001b[43mix\u001b[49m\u001b[43m[\u001b[49m\u001b[43mitem\u001b[49m\u001b[43m]\u001b[49m, \u001b[38;5;28mself\u001b[39m\u001b[38;5;241m.\u001b[39muniverse)\n\u001b[0;32m    593\u001b[0m \u001b[38;5;28;01melse\u001b[39;00m:\n\u001b[0;32m    594\u001b[0m     \u001b[38;5;28;01mif\u001b[39;00m \u001b[38;5;28misinstance\u001b[39m(item, \u001b[38;5;28mlist\u001b[39m) \u001b[38;5;129;01mand\u001b[39;00m item:  \u001b[38;5;66;03m# check for empty list\u001b[39;00m\n\u001b[0;32m    595\u001b[0m         \u001b[38;5;66;03m# hack to make lists into numpy arrays\u001b[39;00m\n\u001b[0;32m    596\u001b[0m         \u001b[38;5;66;03m# important for boolean slicing\u001b[39;00m\n",
      "\u001b[1;31mIndexError\u001b[0m: index 327 is out of bounds for axis 0 with size 327"
     ]
    }
   ],
   "source": [
    "## (1) Start by identifying the directory that houses the crystal structures.\n",
    "\n",
    "# directory with PDB structures\n",
    "directory = './data/a2a_pdbs/'\n",
    "\n",
    "## creating list to hold universes of all crystal structures\n",
    "crystal_unis = []\n",
    "for filename in os.listdir(directory):\n",
    "    crystal_unis.append(mda.Universe(directory + str(filename)))  \n",
    "\n",
    "## (2) Use the MSA output to create the appropriate selection strings for all crystals\n",
    "\n",
    "# open the clustal file\n",
    "clustal_output_directory = './data/a2a_clustalMSA_output_2024-06-10.txt'\n",
    "clustal_output = open(clustal_output_directory)\n",
    "\n",
    "alignment_list = [] # append .txt lines to a list\n",
    "pdbids_list    = [] # append matching pdb ids to list\n",
    "\n",
    "# identify number of lines by looping\n",
    "with open(clustal_output_directory, 'r') as file:\n",
    "    total_lines = sum(1 for _ in file)\n",
    "    \n",
    "# now loop through again and store the pdbs and their sequences alignment strings.\n",
    "for linenum,line in enumerate(clustal_output, start=0):\n",
    "    if linenum != total_lines and linenum % 2 != 0: # odd lines are sequences\n",
    "        alignment_list.append(line[:-1])            # append sequence\n",
    "    elif linenum == total_lines:\n",
    "        alignment_list.append(line)                 # for the final line, include last element\n",
    "    elif linenum % 2 == 0:                          # append pdb id for even lines\n",
    "        pdbids_list.append(line[1:5])               # exclude '>' character and line break\n",
    "clustal_output.close()                              # close the file\n",
    "\n",
    "\n",
    "## (3) convert the list to a binary matrix\n",
    "\n",
    "# create an empty array to hold the lines (n_rows x n_cols)\n",
    "alignment_array = np.zeros((len(alignment_list), len(alignment_list[0])))\n",
    "\n",
    "for i in range(len(alignment_list)):                  # number of constructs\n",
    "    for j in range(len(alignment_list[0])):           # max number of residues present in the file\n",
    "        if alignment_list[i][j] != \"-\":               # if a residue is present\n",
    "            alignment_array[i][j] = 1                 # convert it into a '1' digit\n",
    "            \n",
    "## here we create the binary array for all constructs, and where we append the corresponding resid for each structure if all \n",
    "## structures at this position have a residue present (i.e. topologically equivalent residues)\n",
    "# list to hold the aligned resids for each crystal.\n",
    "listofresidues = [[] for _ in range(len(alignment_list))] # to contain all of the construct IDs\n",
    "\n",
    "# looping over each construct we determine which constructs share a residue in the position\n",
    "# then we append the resid unique to the current crystal to the listofresidues for each crystal\n",
    "for j in range(len(alignment_list)):                      # loop over constructs\n",
    "    \n",
    "    print('Working on construct', j+1,'of {}.'.format(len(alignment_list)), end='\\r')\n",
    "    \n",
    "    # reset the counter for each crystal\n",
    "    counter = -1                                          # counter; first hit of '1' gives resindex 0\n",
    "    for i in range(len(alignment_list[0])):               # total no. of cols from MSA output\n",
    "        if alignment_array[j][i] == 1:                    # if element has a residue\n",
    "            counter += 1                                  # +1 when hit a residue (resindex, not resid)\n",
    "            if np.all(alignment_array.T[i] == 1):         # iff col has all '1's (i.e. all crystals have a res here)\n",
    "                listofresidues[j].append(crystal_unis[j].residues[counter].resid) # append j-th crystal resid based on the resindex (!! NOT resnum !!)\n",
    "            else:\n",
    "                continue\n",
    "        else:\n",
    "            continue\n",
    "\n",
    "## (4) create unique atom_selections for each of the crystals\n",
    "selectionstring_holder           = [] # holder for selection strings of each uni\n",
    "crystals_with_selections_calphas = [] # pdb_unis with calpha selections -- to verify lengths\n",
    "crystals_with_selections_full    = [] # pdb_unis with full selections -- for visualization\n",
    "\n",
    "for k in range(len(listofresidues)): # loop over crystal structures\n",
    "    \n",
    "    selection_string = ''\n",
    "    for i in range(len(listofresidues[k])):                             # num of common resids across structures\n",
    "        \n",
    "        selection_string += 'resid {} or '.format(listofresidues[k][i]) # k-th crystal, i-th resindex\n",
    "    # we append the selection string & the filename, to use as an index\n",
    "    selectionstring_holder.append(selection_string)\n",
    "    # save the calpha representations of alignment\n",
    "    crystals_with_selections_calphas.append(crystal_unis[k].select_atoms('{}'.format('protein and backbone and name CA and segindex 0 and not altLoc B and (' + selectionstring_holder[k][:-4] + ')')\n",
    "                                                                 )      # exclude altlocB since some residues will double count!\n",
    "                                        )                               # final selection string -- omit \" or \" -- AND don't forget parenthese around \"resid or...\"\n",
    "    # save the all-atom representation of alignment\n",
    "    crystals_with_selections_full.append(crystal_unis[k].select_atoms('{}'.format('protein and segindex 0 and not altLoc B and (' + selectionstring_holder[k][:-4] + ')')\n",
    "                                                                 )      # exclude altlocB since some residues will double count!\n",
    "                                        )\n",
    "    \n",
    "print('Note that the order of structures matches between the pdbids_list and the crystal directory:')\n",
    "\n",
    "# check that the order is preserved from crystal unis directory and the msa sequence processing.\n",
    "gg = []\n",
    "for i in os.listdir(directory):\n",
    "    gg.append(i[:4])\n",
    "assert gg == pdbids_list"
   ]
  },
  {
   "cell_type": "code",
   "execution_count": null,
   "id": "06b5b344-0c52-4f78-85bb-46fac0941d78",
   "metadata": {},
   "outputs": [],
   "source": []
  },
  {
   "cell_type": "code",
   "execution_count": null,
   "id": "025631e9-3b8e-4a66-ba57-0de2911c0568",
   "metadata": {},
   "outputs": [],
   "source": []
  },
  {
   "cell_type": "code",
   "execution_count": null,
   "id": "b2c21130-1ace-4aff-a8d2-cded29b7629b",
   "metadata": {},
   "outputs": [],
   "source": []
  },
  {
   "cell_type": "code",
   "execution_count": null,
   "id": "ba5819a1-5397-465a-b63b-66a38380b9a9",
   "metadata": {},
   "outputs": [],
   "source": []
  },
  {
   "cell_type": "code",
   "execution_count": null,
   "id": "5da88e2e-a529-45bb-a761-288ae68cd719",
   "metadata": {},
   "outputs": [],
   "source": []
  },
  {
   "cell_type": "code",
   "execution_count": null,
   "id": "30c550a3-08a0-4101-961f-fabc9cd96fb3",
   "metadata": {},
   "outputs": [],
   "source": []
  },
  {
   "cell_type": "code",
   "execution_count": null,
   "id": "c41d22b3-7eb3-4687-b41c-ecf0c5730e22",
   "metadata": {},
   "outputs": [],
   "source": []
  },
  {
   "cell_type": "code",
   "execution_count": null,
   "id": "90a1ae16-71d0-4ffe-a661-a8b9d7dc1dff",
   "metadata": {},
   "outputs": [],
   "source": []
  },
  {
   "cell_type": "code",
   "execution_count": null,
   "id": "0c070cfc-a067-46a3-9bfb-d389b36f60e3",
   "metadata": {},
   "outputs": [],
   "source": []
  }
 ],
 "metadata": {
  "kernelspec": {
   "display_name": "inspire24",
   "language": "python",
   "name": "inspire24"
  },
  "language_info": {
   "codemirror_mode": {
    "name": "ipython",
    "version": 3
   },
   "file_extension": ".py",
   "mimetype": "text/x-python",
   "name": "python",
   "nbconvert_exporter": "python",
   "pygments_lexer": "ipython3",
   "version": "3.12.4"
  }
 },
 "nbformat": 4,
 "nbformat_minor": 5
}
