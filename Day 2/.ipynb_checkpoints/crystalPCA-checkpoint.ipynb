{
 "cells": [
  {
   "cell_type": "code",
   "execution_count": 48,
   "id": "9966103f-101c-4179-8bff-1da9dd0a54d7",
   "metadata": {},
   "outputs": [],
   "source": [
    "import MDAnalysis as mda\n",
    "from MDAnalysis.analysis import distances\n",
    "from sklearn.decomposition import PCA\n",
    "from sklearn import preprocessing\n",
    "import os\n",
    "import pickle as pickle\n",
    "import numpy as np\n",
    "import pandas as pd\n",
    "import pickle as pickle\n",
    "import time as time\n",
    "import matplotlib.pyplot as plt\n",
    "import glob as glob\n",
    "import multiprocessing as mpro\n",
    "from matplotlib.lines import Line2D\n",
    "%matplotlib inline\n",
    "plt.rcParams['axes.spines.right'] = False\n",
    "plt.rcParams['axes.spines.top'] = False\n",
    "colors_bupu = ['#f7fcfd', '#e0ecf4', '#bfd3e6', '#9ebcda', '#8c96c6', '#8c6bb1', '#88419d', '#810f7c', '#4d004b']"
   ]
  },
  {
   "cell_type": "markdown",
   "id": "d60529b8-077a-42f2-9e0d-77648053839d",
   "metadata": {},
   "source": [
    "# Our goal is to perform a PCA of the crystal structures of A2A\n",
    "- We want to reveal the differences between the active and inactive crystal structures.\n",
    "- We can then see how our simulations explore this 'crystal PCA space' to determine which structures the simulations are more similar to."
   ]
  },
  {
   "cell_type": "code",
   "execution_count": 3,
   "id": "6d49ec75-554e-4976-a5e0-c3a09b04907f",
   "metadata": {},
   "outputs": [
    {
     "name": "stderr",
     "output_type": "stream",
     "text": [
      "C:\\Users\\wular\\anaconda3\\envs\\inspire24\\Lib\\site-packages\\MDAnalysis\\coordinates\\PDB.py:453: UserWarning: 1 A^3 CRYST1 record, this is usually a placeholder. Unit cell dimensions will be set to None.\n",
      "  warnings.warn(\"1 A^3 CRYST1 record,\"\n"
     ]
    }
   ],
   "source": [
    "with open('./data/a2a_dictionary.pkl', 'rb') as ff:\n",
    "    a2a_dictionary = pickle.load(ff)"
   ]
  },
  {
   "cell_type": "markdown",
   "id": "fb512b31-855f-47ba-a1e2-ea3e4ef8e7e5",
   "metadata": {},
   "source": [
    "### We must first compute the feature vector that contains the pairwise distances between all alpha-carbons of our structures."
   ]
  },
  {
   "cell_type": "code",
   "execution_count": 7,
   "id": "bcb258bb-cc7e-4c83-815c-6031d591ed29",
   "metadata": {},
   "outputs": [],
   "source": [
    "crystal_pwdists_holder = []\n",
    "\n",
    "# loop over each universe (each crystal structure that has the MSA aligned selection of topologically equivalent residues)\n",
    "for pdbID in a2a_dictionary.keys():\n",
    "    # set the universe\n",
    "    uni = a2a_dictionary[pdbID]\n",
    "    # compute the pairwise distances between all residues (upper-triangular part of a matrix that has residues on the x and y axis)\n",
    "    pwdists = distances.self_distance_array(uni.select_atoms('name CA').positions)\n",
    "    # append each pairwise distance to the list\n",
    "    crystal_pwdists_holder.append(pwdists)\n",
    "\n",
    "# verify the length of each set of pairwise distances (should all be the same N*(N-1) / 2, N = n_residues!!)\n",
    "print(list(crystal_pwdists_holder[i].shape for i in range(14))\n",
    "     )"
   ]
  },
  {
   "cell_type": "markdown",
   "id": "ebd132c7-de49-47e8-8645-311c86149210",
   "metadata": {},
   "source": [
    "### We can now perform the principal component analysis.\n",
    "- We make use of the sci-kit learn library in python that already has the functions to perform the PCA. Let's walk through the steps that we need to perform that are very similar to the previous, simple, example that we performed."
   ]
  },
  {
   "cell_type": "code",
   "execution_count": 6,
   "id": "d1c27dd7-c2fd-4991-829f-9664a43e4290",
   "metadata": {},
   "outputs": [],
   "source": [
    "%%time\n",
    "\n",
    "# make into a dataframe and then get the value sof the data frame.\n",
    "# each column is a residue position, each row is a unique structure \n",
    "crystal_df = pd.DataFrame(crystal_pwdists_holder)\n",
    "pwdists    = crystal_df.values\n",
    "\n",
    "# scale the data to have mean = 0 and std = 1\n",
    "scaler               = preprocessing.StandardScaler()\n",
    "pwdists_standardized = scaler.fit_transform(pwdists)\n",
    "\n",
    "# confirm this by computing the average and std of each col!\n",
    "\n",
    "## next we create the PCA object that will perform the transformation of our data\n",
    "\n",
    "# set number of PCs to keep\n",
    "nPcs               = 10\n",
    "crystalPCA         = PCA(n_components=nPcs)\n",
    "crystalProjections = crystalPCA.fit_transform(pwdists_standardized)\n",
    "explained_per_var  = np.round(crystalPCA.explained_variance_ratio_*100,) # how much variance is explained by each PC"
   ]
  },
  {
   "cell_type": "code",
   "execution_count": 5,
   "id": "1c4056c7-5651-48ec-bbb2-096c7082a7aa",
   "metadata": {},
   "outputs": [],
   "source": [
    "plt.figure(dpi=300, figsize=(2.4, 1.5))\n",
    "\n",
    "plt.bar(x=range(10), height=explained_per_var, color=colors_bupu[-4], edgecolor='k', lw=1)\n",
    "plt.xticks(range(1, 11, 1), fontsize=5)\n",
    "plt.yticks(fontsize=5)\n",
    "\n",
    "plt.xlabel('Principal component index', fontsize=5)\n",
    "plt.ylabel('Explained \\n variance', fontsize=5)\n",
    "\n",
    "plt.tight_layout()\n",
    "plt.show()"
   ]
  },
  {
   "cell_type": "markdown",
   "id": "83e29069-a556-46bb-9eea-ce946240254a",
   "metadata": {},
   "source": [
    "### Let us now plot the crystal structures on our new space defined by the top two principal components."
   ]
  },
  {
   "cell_type": "code",
   "execution_count": 1,
   "id": "6ccbfff2-88d2-4540-bce1-a784d3c88083",
   "metadata": {},
   "outputs": [],
   "source": [
    "import matplotlib.patheffects as PathEffects\n",
    "\n",
    "plt.figure(dpi=300, figsize=(3,2))\n",
    "\n",
    "# to color the structures we will separate by x-axis positions, since it is easiest...\n",
    "for i,coordinate in enumerate(zip(crystalProjections.T[0], crystalProjections.T[1])): # x and y coords of new PCs\n",
    "    if coordinate[0] < 0:\n",
    "        plt.scatter(x = coordinate[0], y=coordinate[1],  color = colors_bupu[1], edgecolor='k', lw=0.5, s=100, marker = '.')\n",
    "    elif coordinate[0] > 0:\n",
    "        plt.scatter(x = coordinate[0], y=coordinate[1], color = colors_bupu[-1], edgecolor='k', lw=0.5, s=100, marker = '.')\n",
    "\n",
    "txt1 = plt.text(100, -150, s='active crystals', fontsize=5, family='serif', color=colors_bupu[-1])\n",
    "txt1.set_path_effects([PathEffects.withStroke(linewidth=5, foreground='k')])\n",
    "\n",
    "txt2 = plt.text(-160, -150, s='inactive crystals', fontsize=5, family='serif', color=colors_bupu[1])\n",
    "txt2.set_path_effects([PathEffects.withStroke(linewidth=5, foreground='k')])\n",
    "\n",
    "plt.xticks([], fontsize=5)\n",
    "plt.yticks([], fontsize=5)\n",
    "\n",
    "plt.xlabel(f'PC1 - {int(explained_per_var[0])} %', fontsize=5)\n",
    "plt.ylabel(f'PC2 - {int(explained_per_var[1])} %', fontsize=5)\n",
    "\n",
    "plt.tight_layout()\n",
    "plt.show()"
   ]
  },
  {
   "cell_type": "markdown",
   "id": "bb06225b-f104-4d54-aaa7-7572908032e7",
   "metadata": {},
   "source": [
    "### How can we interpret PC1? What does it physically correspond to regarding the protein structure?\n",
    "- Remember that the PCs are a linear combination of the original data -- the original data were pairwise distances.\n",
    "- PC1 is a linear combinaton of the pairwise distances. We can see which pairwise distances contribute the most to PC1 by looking at a heat map."
   ]
  },
  {
   "cell_type": "code",
   "execution_count": 2,
   "id": "ba0d7ac1-1673-4441-bd52-cacab4d60478",
   "metadata": {},
   "outputs": [],
   "source": [
    "contributions = pd.DataFrame(crystalPCA.components_.T, columns = np.array(list(f'PC {i}' for i in range(1, 11, 1))))\n",
    "# print(contributions)\n",
    "\n",
    "# let's focus on PC1\n",
    "pc1_values         = contributions.values.T[0]\n",
    "n_residues         = a2a_dictionary['2ydo'].residues.n_residues\n",
    "pc1_heatmap        = np.zeros((n_residues, n_residues))\n",
    "triu               = np.triu_indices(n_residues, 1) ## ofset by 1 to get upper-triangular portion\n",
    "pc1_heatmap [triu] = pc1_values\n",
    "\n",
    "plt.figure(dpi=300, figsize=(5,4))\n",
    "plt.imshow(np.abs(pc1_heatmap + pc1_heatmap.T), origin='lower', cmap='BuPu')\n",
    "\n",
    "residues = a2a_dictionary['2ydv'].residues.resids\n",
    "plt.xticks(range(len(residues))[::10], residues[::10], fontsize=5, rotation=90)\n",
    "plt.yticks(range(len(residues))[::10], residues[::10], fontsize=5)\n",
    "plt.xlabel('Topologically equivalent resid, 2YDV ref.', fontsize=7)\n",
    "plt.ylabel('Topologically equivalent resid, 2YDV ref.', fontsize=7)\n",
    "plt.title('Contributions of each pairwise distance to PC1', fontsize=7, fontweight='bold')\n",
    "plt.colorbar(label = 'Abs. contribution',)\n",
    "\n",
    "plt.tight_layout()\n",
    "plt.show()"
   ]
  },
  {
   "cell_type": "markdown",
   "id": "8e50147b-dda9-46fe-9eeb-81a47e6c6834",
   "metadata": {},
   "source": [
    "### How do my trajectories 'sample this PCA space'?"
   ]
  },
  {
   "cell_type": "code",
   "execution_count": 3,
   "id": "18d83c28-0e25-49e7-958b-053347ccebdc",
   "metadata": {},
   "outputs": [],
   "source": [
    "%%time\n",
    "\n",
    "from IPython.display import clear_output\n",
    "\n",
    "stride=1\n",
    "\n",
    "selectionStrings = np.load('./data/msa_selectionStringHolder.npy', allow_pickle=True)\n",
    "uni              = mda.Universe('./data/a2a_trajs/traj0.gro',\n",
    "                                ['./data/a2a_trajs/traj0.xtc', './data/a2a_trajs/traj1.xtc']\n",
    "                               )\n",
    "\n",
    "traj_pwdists = []\n",
    "\n",
    "for ts in uni.trajectory[::stride]:\n",
    "    if ts.frame % 1_00 == 0:\n",
    "        print(int(ts.frame *100 / uni.trajectory.n_frames), '%')\n",
    "        clear_output(wait=True)\n",
    "    pwdist = distances.self_distance_array(uni.select_atoms('protein and name CA and (' + selectionStrings[0][:-4] + ')').positions)\n",
    "    traj_pwdists.append(pwdist)\n",
    "\n",
    "trajScaled      = scaler.transform(traj_pwdists) # transform - don't fit! already fitted on crystal data\n",
    "trajProjections = crystalPCA.transform(trajScaled)"
   ]
  },
  {
   "cell_type": "code",
   "execution_count": 4,
   "id": "25cd8360-bed1-4254-bbd8-bc2f9ada844e",
   "metadata": {},
   "outputs": [],
   "source": [
    "traj_x, traj_y = trajProjections.T[0], trajProjections.T[1]\n",
    "\n",
    "plt.figure(dpi=300, figsize=(3,2))\n",
    "\n",
    "# to color the structures we will separate by x-axis positions, since it is easiest...\n",
    "for i,coordinate in enumerate(zip(crystalProjections.T[0], crystalProjections.T[1])): # x and y coords of new PCs\n",
    "    if coordinate[0] < 0:\n",
    "        plt.scatter(x = coordinate[0], y=coordinate[1],  color = colors_bupu[1], edgecolor='k', lw=0.5, s=100, marker = '.')\n",
    "    elif coordinate[0] > 0:\n",
    "        plt.scatter(x = coordinate[0], y=coordinate[1], color = colors_bupu[-1], edgecolor='k', lw=0.5, s=100, marker = '.')\n",
    "\n",
    "## plot the trajectories on this space\n",
    "\n",
    "plt.scatter(x = traj_x, y = traj_y, s = 20, color = colors_bupu[4], marker='.', edgecolor='k', lw = 0.5)\n",
    "\n",
    "plt.xticks([], fontsize=5)\n",
    "plt.yticks([], fontsize=5)\n",
    "\n",
    "plt.xlabel(f'PC1 - {int(explained_per_var[0])} %', fontsize=5)\n",
    "plt.ylabel(f'PC2 - {int(explained_per_var[1])} %', fontsize=5)\n",
    "\n",
    "plt.tight_layout()\n",
    "plt.show()"
   ]
  }
 ],
 "metadata": {
  "kernelspec": {
   "display_name": "inspire24",
   "language": "python",
   "name": "inspire24"
  },
  "language_info": {
   "codemirror_mode": {
    "name": "ipython",
    "version": 3
   },
   "file_extension": ".py",
   "mimetype": "text/x-python",
   "name": "python",
   "nbconvert_exporter": "python",
   "pygments_lexer": "ipython3",
   "version": "3.12.4"
  }
 },
 "nbformat": 4,
 "nbformat_minor": 5
}
