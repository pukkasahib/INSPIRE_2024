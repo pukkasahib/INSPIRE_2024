{
 "cells": [
  {
   "cell_type": "code",
   "execution_count": 1,
   "id": "9966103f-101c-4179-8bff-1da9dd0a54d7",
   "metadata": {},
   "outputs": [
    {
     "name": "stderr",
     "output_type": "stream",
     "text": [
      "C:\\Users\\wular\\anaconda3\\envs\\inspire24\\Lib\\site-packages\\Bio\\Application\\__init__.py:40: BiopythonDeprecationWarning: The Bio.Application modules and modules relying on it have been deprecated.\n",
      "\n",
      "Due to the on going maintenance burden of keeping command line application\n",
      "wrappers up to date, we have decided to deprecate and eventually remove these\n",
      "modules.\n",
      "\n",
      "We instead now recommend building your command line and invoking it directly\n",
      "with the subprocess module.\n",
      "  warnings.warn(\n"
     ]
    }
   ],
   "source": [
    "import MDAnalysis as mda\n",
    "from MDAnalysis.analysis import align\n",
    "import re\n",
    "import numpy as np\n",
    "import pandas as pd\n",
    "import matplotlib.pyplot as plt\n",
    "import glob as glob\n",
    "import pickle \n",
    "import os\n",
    "from IPython.display import clear_output\n",
    "\n",
    "%matplotlib inline"
   ]
  },
  {
   "cell_type": "markdown",
   "id": "d60529b8-077a-42f2-9e0d-77648053839d",
   "metadata": {},
   "source": [
    "# The protein data bank (PDB) provides us with approximately 73 structures of the A2A protein. How can we use this experimental information to inform our understanding of the dynamics of A2A?\n",
    "\n",
    "The structures within the PDB are resolved using a few key structural biology methods that include:\n",
    "- X-ray crystallography (one of the msot commonly used)\n",
    "- Cryo-electron microscopy\n",
    "- Microcrystal electron diffraction.\n",
    "\n",
    "Preparing a protein for crystallization, the crystallization process, and then determining the 3D structure of the protein is a challenging process that can take years. To help stabilize the protein when preparing it for an experiment, a small molecule ligand will be associated with the protein, such as an agonist or an antagonist. As of today, there are 73 crystal structures of the A2A protein in the PDB, with approximately 10 of them representing the activated form of A2A and the remainder representing the inactivated form.\n",
    "\n",
    "**Question:** With this large amount of structural data, can we use it to interrogate the dynamics of A2A, and make use of our simulations to fill in the gaps?"
   ]
  },
  {
   "cell_type": "code",
   "execution_count": 2,
   "id": "5e348403-e030-4469-a61c-a7afd4d27201",
   "metadata": {},
   "outputs": [],
   "source": [
    "def clustalMSApreparation(inputDirectory_crystals, atomSelection, outputDirectory_clustalPrep):\n",
    "    \n",
    "    \"\"\"\n",
    "    Function that takes as input a set of crystal structures and outputs a clustal omega compatible .txt file\n",
    "    that can be fed into clustal omega multiple-sequence alignment web server.    \n",
    "    \"\"\"\n",
    "    \n",
    "    ## function from MDAnalysis to give the sequence of proteins in terms of single letter representations.\n",
    "\n",
    "    def getModelledSeq(pdb_structure):\n",
    "        \"\"\"\n",
    "        Goal: function that spits out the input-sequence in their single-letter representation\n",
    "        \"\"\"\n",
    "        mystr = \"\" # linebreaks and arrow ('>') for clustal to recognize new sequences\n",
    "        for i in range(len(pdb_structure.residues.resids)):\n",
    "            # mdanalysis utility to convert the sequence into their 1-letter assignments\n",
    "            mystr += mda.lib.util.convert_aa_code(pdb_structure.residues.resnames[i])\n",
    "        return mystr\n",
    "\n",
    "    ## (1) start by adding the crystal structures and the starting structure to a list\n",
    "\n",
    "    # directory with PDB structures\n",
    "    directory = inputDirectory_crystals\n",
    "\n",
    "    ## creating list to hold universes of all crystal structures and our starting structure\n",
    "\n",
    "    # we start by adding all of the crystal structures\n",
    "    crystal_unis = []\n",
    "    for filename in os.listdir(directory):\n",
    "        crystal_unis.append(mda.Universe(directory + str(filename)))\n",
    "\n",
    "    ## (2) We create a list of the single-letter residues for all of the crystal structures\n",
    "\n",
    "    # contains all of the modelled residues for each construct\n",
    "    # this picks out the residues that are actually modelled in the crystal structures\n",
    "    crystal_modelled_residues = []\n",
    "\n",
    "    for i,file in enumerate(os.listdir(directory)):\n",
    "        # from the file name we pick out the PDB ID (file[3:7])\n",
    "        # we have a convoluted atom selection syntax to pick residues that are modelled on a single chain without duplicates\n",
    "        temp_sequence = \"\\n>\" + file[0:4] + '\\n' + getModelledSeq(mda.Universe(directory + str(file)).select_atoms(atomSelection))\n",
    "        crystal_modelled_residues.append(temp_sequence)\n",
    "\n",
    "    ## (3) This is to organize the strings that will be fed into clustal.\n",
    "\n",
    "    # append each construct's sequence to a textfile for input into clustal (https://www.ebi.ac.uk/Tools/msa/clustalo/)\n",
    "    clustal_input = ([crystal_modelled_residues[j] for j in range(len(crystal_modelled_residues))])\n",
    "    with open(outputDirectory_clustalPrep, 'w') as clustal_writer:\n",
    "        for n in range(len(crystal_modelled_residues)):\n",
    "            clustal_writer.write(clustal_input[n])\n",
    "    clustal_writer.close()\n",
    "    \n",
    "    return \"Job completed: check for input.txt file in {}\".format(outputDirectory_clustalPrep)"
   ]
  },
  {
   "cell_type": "code",
   "execution_count": 3,
   "id": "ac37d53a-fff8-4b97-a5eb-f21cdc456334",
   "metadata": {},
   "outputs": [
    {
     "name": "stderr",
     "output_type": "stream",
     "text": [
      "C:\\Users\\wular\\anaconda3\\envs\\inspire24\\Lib\\site-packages\\MDAnalysis\\coordinates\\PDB.py:453: UserWarning: 1 A^3 CRYST1 record, this is usually a placeholder. Unit cell dimensions will be set to None.\n",
      "  warnings.warn(\"1 A^3 CRYST1 record,\"\n"
     ]
    },
    {
     "name": "stdout",
     "output_type": "stream",
     "text": [
      "CPU times: total: 9.31 s\n",
      "Wall time: 13.7 s\n"
     ]
    },
    {
     "data": {
      "text/plain": [
       "'Job completed: check for input.txt file in ././data/clustalInput_2024-06-24.txt'"
      ]
     },
     "execution_count": 3,
     "metadata": {},
     "output_type": "execute_result"
    }
   ],
   "source": [
    "%%time\n",
    "\n",
    "## perform the msa preparation on the a2a crystals\n",
    "\n",
    "from datetime import datetime\n",
    "date = datetime.today().strftime('%Y-%m-%d')\n",
    "\n",
    "## call our function and save the output file.\n",
    "clustalMSApreparation('./data/a2a_pdbs/',\n",
    "                     'protein and backbone and name CA and segindex 0 and not altLoc B',\n",
    "                     f'././data/clustalInput_{date}.txt')"
   ]
  },
  {
   "cell_type": "markdown",
   "id": "8d14990b-0727-4b8a-bebf-c16c99f7796f",
   "metadata": {},
   "source": [
    "# We would then slap this into clustalOmega's server, get the output, and re-format the file to have the aligned sequences on single lines, rather than blocked."
   ]
  },
  {
   "cell_type": "markdown",
   "id": "ac59725a-4fcd-4288-acde-5f1ce8c9bfdc",
   "metadata": {},
   "source": [
    "# We then use this output from clustalOmega's MSA to construct the set of topologically equivalent residues for our structures.\n",
    "\n",
    "\n",
    "## Create the atom_selection strings for each crystal structure's 'topologically equivalent' residues, with reference to the multiple sequence alignment\n",
    "- We will then append each selection string to the corresponding entry in the crystal structure dictionary. This will streamline our work, for example when computing PCA.\n",
    "- This requires a clustalOmega MSA input.\n",
    "- !! clustal omega outputs a file that has a line structure as: 'pdbid \\n sequence'.\n",
    "    - Therefore, we include in the script a way to take the pdbid and the corresponding msa. This way we don't need to manually manipulate the files."
   ]
  },
  {
   "cell_type": "code",
   "execution_count": 8,
   "id": "c87ca11a-e4d2-4aea-9c3d-cd73c1906330",
   "metadata": {},
   "outputs": [
    {
     "name": "stdout",
     "output_type": "stream",
     "text": [
      "Note that the order of structures matches between the pdbids_list and the crystal directory:\n"
     ]
    },
    {
     "data": {
      "text/plain": [
       "True"
      ]
     },
     "execution_count": 8,
     "metadata": {},
     "output_type": "execute_result"
    }
   ],
   "source": [
    "## (1) Start by identifying the directory that houses the aligned crystal structures.\n",
    "\n",
    "# directory with aligned PDB structures\n",
    "directory = './data/a2a_pdbs/'\n",
    "a2a_structure_names = ['2ydo', '5g53', '5iua', '2ydv', '4uhr', '5wf5', '5wf6', '6gdg', '4eiy', '5k2a', '3rey', '5iu7', '5k2d', '5mzp']\n",
    "\n",
    "## creating list to hold universes of all crystal structures\n",
    "crystal_unis = [mda.Universe(directory + pdbID + '.pdb') for pdbID in a2a_structure_names]\n",
    "\n",
    "## (2) Use the MSA output to create the appropriate selection strings for all crystals\n",
    "\n",
    "# open the clustal file\n",
    "clustal_output_directory = './data/clustalOutput_14structures.txt'\n",
    "clustal_output = open(clustal_output_directory)\n",
    "\n",
    "alignment_list = [] # append .txt lines to a list\n",
    "pdbids_list    = [] # append matching pdb ids to list\n",
    "\n",
    "# identify number of lines by looping\n",
    "with open(clustal_output_directory, 'r') as file:\n",
    "    total_lines = sum(1 for _ in file)\n",
    "    \n",
    "# now loop through again and store the pdbs and their sequences alignment strings.\n",
    "for linenum,line in enumerate(clustal_output, start=0):\n",
    "    if linenum != total_lines and linenum % 2 != 0: # odd lines are sequences\n",
    "        alignment_list.append(line[:-1])            # append sequence\n",
    "    elif linenum == total_lines:\n",
    "        alignment_list.append(line)                 # for the final line, include last element\n",
    "    elif linenum % 2 == 0:                          # append pdb id for even lines\n",
    "        pdbids_list.append(line[1:5])               # exclude '>' character and line break\n",
    "clustal_output.close()                              # close the file\n",
    "\n",
    "\n",
    "## (3) convert the list to a binary matrix\n",
    "\n",
    "### FIRST WE CONVER THE LIST OF ALIGNMENT SEQUENCES INTO AN ARRAY OF 14X476, each col is an individual sequence element \n",
    "# list of alignment strings\n",
    "list_of_strings = alignment_list\n",
    "# Convert each string to a list of characters\n",
    "chars_lists = [list(s) for s in list_of_strings]\n",
    "# Determine the maximum length of the strings to pad shorter strings\n",
    "max_length = max(len(s) for s in list_of_strings)\n",
    "# Pad shorter strings with spaces to make all arrays of equal length\n",
    "chars_lists_padded = [s + [' '] * (max_length - len(s)) for s in chars_lists]\n",
    "# Convert the list of lists of characters to a NumPy array\n",
    "array_2d = np.array(chars_lists_padded)\n",
    "\n",
    "# create an empty array to hold the lines (n_rows x n_cols)\n",
    "alignment_array = np.zeros(array_2d.shape)\n",
    "alignment_array  = np.array([[1 if char.isalpha() else 0 for char in sublist] for sublist in array_2d]\n",
    "                           )\n",
    "\n",
    "## here we create the binary array for all constructs, and where we append the corresponding resid for each structure if all \n",
    "## structures at this position have a residue present (i.e. topologically equivalent residues)\n",
    "\n",
    "# list to hold the aligned resids for each crystal.\n",
    "listofresidues = [[] for _ in range(len(alignment_list))] # to contain all of the construct IDs\n",
    "\n",
    "# looping over each construct we determine which constructs share a residue in the position\n",
    "# then we append the resid unique to the current crystal to the listofresidues for each crystal\n",
    "\n",
    "nrows = array_2d.shape[0] # number of crystals\n",
    "ncols = array_2d.shape[1] # number of total residues in MSA\n",
    "\n",
    "for j in range(nrows):                      # loop over constructs\n",
    "    \n",
    "    print('Working on construct', j+1,'of {}.'.format(nrows), end='\\r')\n",
    "    \n",
    "    # reset the counter for each crystal\n",
    "    counter = -1                                          # counter; first hit of '1' gives resindex 0\n",
    "    for i in range(ncols):               # total no. of cols from MSA output\n",
    "        if alignment_array[j][i] == 1:                    # if element has a residue\n",
    "            counter += 1                                  # +1 when hit a residue (resindex, not resid)\n",
    "            \n",
    "            if np.all(alignment_array.T[i] == 1):         # iff col has all '1's (i.e. all crystals have a res here)\n",
    "                listofresidues[j].append(crystal_unis[j].residues[counter].resid) # append j-th crystal resid based on the resindex (!! NOT resnum !!)\n",
    "            else:\n",
    "                continue\n",
    "        else:\n",
    "            continue\n",
    "\n",
    "## (4) create unique atom_selections for each of the crystals\n",
    "selectionstring_holder           = [] # holder for selection strings of each uni\n",
    "crystals_with_selections_calphas = [] # pdb_unis with calpha selections -- to verify lengths\n",
    "crystals_with_selections_full    = [] # pdb_unis with full selections -- for visualization\n",
    "\n",
    "for k in range(len(listofresidues)): # loop over crystal structures\n",
    "    \n",
    "    selection_string = ''\n",
    "    for i in range(len(listofresidues[k])):                             # num of common resids across structures\n",
    "        \n",
    "        selection_string += 'resid {} or '.format(listofresidues[k][i]) # k-th crystal, i-th resindex\n",
    "        \n",
    "    # we append the selection string & the filename, to use as an index\n",
    "    selectionstring_holder.append(selection_string)\n",
    "    # save the calpha representations of alignment\n",
    "    crystals_with_selections_calphas.append(crystal_unis[k].select_atoms('{}'.format('protein and backbone and name CA and segindex 0 and not altLoc B and (' + selectionstring_holder[k][:-4] + ')')\n",
    "                                                                 )      # exclude altlocB since some residues will double count!\n",
    "                                        )                               # final selection string -- omit \" or \" -- AND don't forget parenthese around \"resid or...\"\n",
    "    # save the all-atom representation of alignment\n",
    "    crystals_with_selections_full.append(crystal_unis[k].select_atoms('{}'.format('protein and segindex 0 and not altLoc B and (' + selectionstring_holder[k][:-4] + ')')\n",
    "                                                                 )      # exclude altlocB since some residues will double count!\n",
    "                                        )\n",
    "# save the selection string holder\n",
    "np.save('./data/msa_selectionStringHolder.npy', selectionstring_holder, allow_pickle=True)\n",
    "print('Note that the order of structures matches between the pdbids_list and the crystal directory:')\n",
    "\n",
    "# check that the order is preserved from crystal unis directory and the msa sequence processing.\n",
    "gg = []\n",
    "for i in a2a_structure_names:\n",
    "    gg.append(i[:4])\n",
    "gg == pdbids_list"
   ]
  },
  {
   "cell_type": "markdown",
   "id": "74ae6d6e-fe0a-47c5-947d-9f7106963d49",
   "metadata": {},
   "source": [
    "# We can visualize what the alignment of the topologically equivalent residues across all of the 14 crystal structures looks like.\n",
    "- We see that the black squares indicates residues that are present across all of the structures -- these are the residues that are chosen in our selection.\n",
    "- Spaces of white indicate residue positions where there are no topologically equivalent residues (i.e. these are the gaps in the multiple sequence alignment)"
   ]
  },
  {
   "cell_type": "code",
   "execution_count": 5,
   "id": "df75cb46-86cf-4a5c-9bf7-a83048422e3c",
   "metadata": {},
   "outputs": [
    {
     "data": {
      "image/png": "[encoded data removed]",
      "text/plain": [
       "<Figure size 3000x3000 with 2 Axes>"
      ]
     },
     "metadata": {},
     "output_type": "display_data"
    }
   ],
   "source": [
    "plt.figure(dpi = 300, figsize=(10,10))\n",
    "plt.title('MSA array')\n",
    "plt.xlabel('Topologically equivalent residue index')\n",
    "plt.ylabel('Crystal index')\n",
    "plt.imshow(alignment_array, origin='lower', cmap = 'binary', interpolation=None)\n",
    "cbar = plt.colorbar(fraction=0.0075, pad=0.04,)\n",
    "cbar.set_ticks(range(2))\n",
    "plt.show()"
   ]
  },
  {
   "cell_type": "code",
   "execution_count": 6,
   "id": "92f90bf5-8778-4a72-ae5a-875d15c9384b",
   "metadata": {},
   "outputs": [
    {
     "name": "stdout",
     "output_type": "stream",
     "text": [
      "263\n",
      "263\n",
      "263\n",
      "263\n",
      "263\n",
      "263\n",
      "263\n",
      "263\n",
      "263\n",
      "263\n",
      "263\n",
      "263\n",
      "263\n",
      "263\n",
      "{'2ydo': <AtomGroup with 263 atoms>, '5g53': <AtomGroup with 263 atoms>, '5iua': <AtomGroup with 263 atoms>, '2ydv': <AtomGroup with 263 atoms>, '4uhr': <AtomGroup with 263 atoms>, '5wf5': <AtomGroup with 263 atoms>, '5wf6': <AtomGroup with 263 atoms>, '6gdg': <AtomGroup with 263 atoms>, '4eiy': <AtomGroup with 263 atoms>, '5k2a': <AtomGroup with 263 atoms>, '3rey': <AtomGroup with 263 atoms>, '5iu7': <AtomGroup with 263 atoms>, '5k2d': <AtomGroup with 263 atoms>, '5mzp': <AtomGroup with 263 atoms>}\n"
     ]
    },
    {
     "name": "stderr",
     "output_type": "stream",
     "text": [
      "C:\\Users\\wular\\AppData\\Local\\Temp\\ipykernel_15700\\3198989149.py:14: UserWarning: Reader has no dt information, set to 1.0 ps\n",
      "  pickle.dump(a2a_dictionary, ff)\n"
     ]
    }
   ],
   "source": [
    "## Let's check that we have universes with the same number of residues\n",
    "\n",
    "# looping through each universe, let's print out how many residues exist. They should all be the same number!\n",
    "for universe in (crystals_with_selections_calphas):\n",
    "    print(universe.residues.n_residues)\n",
    "\n",
    "# let's also save these universes a dictionary\n",
    "a2a_dictionary = dict(zip(pdbids_list, crystals_with_selections_calphas))\n",
    "# print the dictionary to see what it looks like\n",
    "print(a2a_dictionary)\n",
    "\n",
    "# save the dictionary as a pickled object\n",
    "with open('./data/a2a_dictionary.pkl', 'wb') as ff:\n",
    "    pickle.dump(a2a_dictionary, ff)"
   ]
  }
 ],
 "metadata": {
  "kernelspec": {
   "display_name": "inspire24",
   "language": "python",
   "name": "inspire24"
  },
  "language_info": {
   "codemirror_mode": {
    "name": "ipython",
    "version": 3
   },
   "file_extension": ".py",
   "mimetype": "text/x-python",
   "name": "python",
   "nbconvert_exporter": "python",
   "pygments_lexer": "ipython3",
   "version": "3.12.4"
  }
 },
 "nbformat": 4,
 "nbformat_minor": 5
}
