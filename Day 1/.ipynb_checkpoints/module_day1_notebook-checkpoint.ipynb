{
 "cells": [
  {
   "cell_type": "markdown",
   "metadata": {},
   "source": [
    "---\n",
    "\n",
    "# INSPIRE Day 1:\n",
    "---\n",
    "\n",
    "# Using \"a computational microscope\" to study protein structure and dynamics, or How to be a molecular detective\n",
    "\n",
    "\n",
    "\n",
    "# Part I\n",
    "\n",
    "## 1. Introduction <a id='l_overview'></a>\n",
    "\n",
    "The goal of today's lecture is to present an introduction of the simulation technique called Molecular Dynamics (MD), as applied to macromolecules. We will learn how to run these simulations using the Python programmming language. We will use many `numpy` functions and a few new modules, such as `openmm` for MD simulations. These are the important concepts that we will cover:\n",
    "\n",
    "- [Newton's Laws of Motion](#l_newton) \n",
    "- [Simulation of Dynamics of Particles](#l_sims)\n",
    "- [Proteins -- Different Levels of Structure](#l_proteins)\n",
    "- [Molecular Mechanics](#l_mm)\n",
    "- [MD Simulations of Proteins](#l_md)\n",
    "\n",
    "\n",
    "Our end-goal is to investiate how dynamics on the molecular level lead to functional outcomes. Consider for example the adenosine A2A receptor (pictured below) -- how can we interrogate the complex dynamics of this protein using computer simulations? What is our starting point?\n",
    "\n",
    "<center><img src=\"pics/a2a.png\" width=\"750\"></center>\n",
    "\n",
    "## 2. Newton's Laws of Motion <a id='l_newton'></a>\n",
    "\n",
    "Newton's 2nd law connects the kinematics (movements) of a body with its mechanics (total force acting on it) and defines the dynamic evolution of its position: \n",
    "\n",
    "$$m\\frac{d^2r(t)}{dt^2} = F = - \\nabla{U(r)},$$\n",
    "\n",
    "where $m$ is the mass, $r$ is the position, $F$ is the force and $U(r)$ is the potential energy, which depends only on the position of the body. \n",
    "If one knows the forces acting upon the body, one can find the position of the body at any moment $r(t)$, i.e. predict its dynamics. This can be done by solving Newton's equation of motion. It is a second order ODE that can be solved analytically for a few simple cases: constant force, harmonic oscillator, periodic force, drag force, etc.\n",
    "However, a more general approach is to use computers in order to solve the ODE numerically. Predicting dynamics gives us a powerful tool to study nature.\n",
    "\n",
    "\n",
    "## 3. Simulation of Dynamics of Particles <a id='l_sims'></a>\n",
    "\n",
    "There are [many methods](https://en.wikipedia.org/wiki/Numerical_methods_for_ordinary_differential_equations#Methods) for solving ODEs. The second order ODE is transformed to the system of two first order ODEs as follows:\n",
    "\n",
    "$$\\frac{dr(t)}{dt} = v(t)$$\n",
    "\n",
    "$$m\\frac{dv(t)}{dt} = F(t)$$\n",
    "\n",
    "We use a finite difference approximation that comes to a simple forward Euler Algorithm: \n",
    "\n",
    "$$ v_{n+1} = v_n + \\frac{F_n}{m} dt$$\n",
    "\n",
    "$$ r_{n+1} = r_n + v_{n+1} dt$$\n",
    "\n",
    "Here we discretize time t with time step $dt$, so $t_{n+1} = t_n + dt$, and $r_{n} = r(t_n)$, $v_{n} = v(t_n)$, where $n$ is the timestep number. Using this method, computing dynamics is straightforward."
   ]
  },
  {
   "cell_type": "markdown",
   "metadata": {},
   "source": [
    "\n",
    "<img src=\"pics/Toronto-04.png\" width=\"300\" align=\"right\">\n",
    "\n",
    "### Example 3.1. Simulation of a projectile on Earth\n",
    "\n",
    "---\n",
    "\n",
    "We want to know the dynamics of a green apple ($m = 0.3$ kg) tossed horizontally at 10 cm/s speed from the top of the Toronto CN Tower (553 m) for the first 10 seconds."
   ]
  },
  {
   "cell_type": "code",
   "execution_count": 18,
   "metadata": {},
   "outputs": [
    {
     "name": "stderr",
     "output_type": "stream",
     "text": [
      "C:\\Users\\wular\\anaconda3\\envs\\inspire24\\Lib\\site-packages\\matplotlib\\animation.py:892: UserWarning: Animation was deleted without rendering anything. This is most likely not intended. To prevent deletion, assign the Animation to a variable, e.g. `anim`, that exists until you output the Animation using `plt.show()` or `anim.save()`.\n",
      "  warnings.warn(\n"
     ]
    }
   ],
   "source": [
    "import numpy as np\n",
    "import matplotlib.pyplot as plt\n",
    "from matplotlib import animation\n",
    "\n",
    "# Setup the figure and axes...\n",
    "fig, ax = plt.subplots(figsize=(3,3), dpi=300, )\n",
    "\n",
    "plt.title('Apple falling from CN tower (no drag)', fontsize=5)\n",
    "plt.xlabel('Position (meters)', fontsize=5)\n",
    "plt.ylabel('Height (meters)', fontsize=5)\n",
    "plt.xlim(-2,2)\n",
    "plt.ylim(0, 600)\n",
    "\n",
    "plt.xticks(fontsize=5)\n",
    "plt.yticks(fontsize=5)\n",
    "ax.grid(alpha=0.5, color='gray', ls='--', lw = 1, zorder=10)\n",
    "\n",
    "## note that the choice of units needs to be consistent such that numerical values are of the appropriate order\n",
    "# parameters of the problem\n",
    "T   = 10.    # s\n",
    "m   = 0.3    # kg\n",
    "g   = 9.8    # m/s^2\n",
    "v0x = -0.1   # m/s\n",
    "H   = 553.   # m\n",
    "\n",
    "# setting a timestep to be 50 ms\n",
    "dt = 0.05        # s\n",
    "N  = int(T / dt) # no. of steps\n",
    "\n",
    "# Allocating arrays for 2D problem\n",
    "v = np.zeros((N+1, 2)) # velocities\n",
    "r = np.zeros((N+1, 2)) # positions\n",
    "f = np.zeros((N+1, 2)) # forces\n",
    "\n",
    "# initial conditions, r and v:\n",
    "r[0] = np.array([0., H])    # set [x,y] array zeroth entries\n",
    "v[0] = np.array([-v0x, 0.]) # set [x,y] array zeroth entries\n",
    "\n",
    "# defining forces at each frame; they all are constants, mg\n",
    "f[:] = np.array([0., -m * g])\n",
    "\n",
    "## Compute dynamics for each frame using the Euler scheme\n",
    "for n in range(N):\n",
    "    v[n+1] = v[n] + f[n]/m * dt\n",
    "    r[n+1] = r[n] + v[n+1] * dt\n",
    "\n",
    "## drawing the first data point on the scatter plot, selecting color/size/symbol \n",
    "scat = ax.scatter(r[0,0], r[0,1], marker='o', c='deepskyblue', s=150, edgecolor='k', lw=1, zorder=1001)\n",
    "\n",
    "# a function animate, which updates coordinates of scatter points based on the frame number, i\n",
    "def animate(i):\n",
    "    scat.set_offsets(r[i])\n",
    "\n",
    "# create an animation based on the function animate\n",
    "ani = animation.FuncAnimation(fig, func=animate, frames=N)\n",
    "plt.tight_layout()\n",
    "plt.close() "
   ]
  },
  {
   "cell_type": "markdown",
   "metadata": {},
   "source": [
    "Let's visualize the dynamics using embedded HTML. It's interactive and you can play a movie step by step:"
   ]
  },
  {
   "cell_type": "code",
   "execution_count": 1,
   "metadata": {
    "scrolled": true
   },
   "outputs": [],
   "source": [
    "from IPython.display import HTML\n",
    "HTML(ani.to_jshtml(fps= 1//dt))"
   ]
  },
  {
   "cell_type": "markdown",
   "metadata": {},
   "source": [
    "### Introducing drag force in the system:\n",
    "\n",
    "Drag force $F_d = - \\gamma v$ is a force acting on a moving object in a mediuum. It always acts in the opposite direction of velocity and slows the paricle down. The magnitude of this force depends on the speed of the particle ($v$), properties of the mediuum and geomtery of the particle, which are incorporated in the coefficient $\\gamma$. \n",
    "\n",
    "With drag, solving Second Newton's Law ODE analytically is pretty challenging (but possible!):\n",
    "\n",
    "$$\\frac{dr(t)}{dt} = v(t)$$\n",
    "\n",
    "$$m\\frac{dv(t)}{dt} = F(t) - \\gamma v(t)$$\n",
    "\n",
    "We use a forward Euler Algorithm: \n",
    "\n",
    "$$ v_{n+1} = v_n + \\frac{F_n}{m} dt - \\frac{\\gamma}{m} v_n dt $$\n",
    "\n",
    "$$ r_{n+1} = r_n + v_{n+1} dt $$\n",
    "\n"
   ]
  },
  {
   "cell_type": "markdown",
   "metadata": {},
   "source": [
    "## Exercise 3.1\n",
    "\n",
    "Modify the previous code in order to introduce drag to the problem. Use coefficient $\\gamma = 0.02$ kg/s."
   ]
  },
  {
   "cell_type": "code",
   "execution_count": 2,
   "metadata": {
    "scrolled": true
   },
   "outputs": [],
   "source": [
    "import numpy as np\n",
    "import matplotlib.pyplot as plt\n",
    "from matplotlib import animation\n",
    "\n",
    "# Setup the figure and axes...\n",
    "fig, ax = plt.subplots(figsize=(3,3), dpi=300, )\n",
    "\n",
    "plt.title('Apple falling from CN tower (with drag)', fontsize=5)\n",
    "plt.xlabel('Position (meters)', fontsize=5)\n",
    "plt.ylabel('Height (meters)', fontsize=5)\n",
    "plt.xlim(-2,2)\n",
    "plt.ylim(0, 600)\n",
    "\n",
    "plt.xticks(fontsize=5)\n",
    "plt.yticks(fontsize=5)\n",
    "ax.grid(alpha=0.5, color='gray', ls='--', lw = 1, zorder=10)\n",
    "\n",
    "# parameters of the problem\n",
    "T   = 10.  # s\n",
    "m   = 0.3  # kg\n",
    "g   = 9.8  # m/s^2\n",
    "v0x = -0.1 # m/s\n",
    "H   = 553. # m\n",
    "gamma = 0.02 # kg/s\n",
    "\n",
    "# setting a timestep to be 50 ms\n",
    "dt = 0.05       # s\n",
    "N = int(T / dt) # No. of steps\n",
    "\n",
    "# Allocating arrays for 2D problem\n",
    "v = np.zeros((N+1, 2))\n",
    "r = np.zeros((N+1, 2))\n",
    "f = np.zeros((N+1, 2))\n",
    "\n",
    "# initial conditions, r and v:\n",
    "r[0] = np.array([0., H])\n",
    "v[0] = np.array([-v0x, 0.]) # constant v_x\n",
    "\n",
    "# defining forces at each frame; they all are constants, mg\n",
    "f[:] = np.array([0., -m * g])\n",
    "\n",
    "## Compute dynamics for each frame using our updated Euler scheme\n",
    "for n in range(N):\n",
    "    v[n+1] = v[n] + f[n]/m * dt - gamma/m * v[n] * dt\n",
    "    r[n+1] = r[n] + v[n+1] * dt\n",
    "\n",
    "## drawing the first data point on the scatter plot, selecting color/size/symbol \n",
    "scat = ax.scatter(r[0,0], r[0,1], marker='o', c='deepskyblue', s=150, edgecolor='k', lw=1, zorder=1001)\n",
    "\n",
    "# a function animate, which updates coordinates of scatter points based on the frame number i \n",
    "def animate(i):\n",
    "    scat.set_offsets(r[i])\n",
    "\n",
    "# create an animation based on the function animate\n",
    "ani = animation.FuncAnimation(fig, func=animate, frames=N)\n",
    "plt.tight_layout()\n",
    "plt.close()\n",
    "\n",
    "from IPython.display import HTML\n",
    "HTML(ani.to_jshtml(fps= 1//dt))"
   ]
  },
  {
   "cell_type": "markdown",
   "metadata": {},
   "source": [
    "## N-body problem -- building towards more complex systems.\n",
    "---\n",
    "We can easily simulate a single particle acting in a constant force environment. But proteins are made of thousands, if not millions, of atoms; so, we must increase the complexity of the simulations. We can start by introducing more particles and considering how the forces between the particles act.\n",
    "\n",
    "When a closed system of particles are interacting through pairwise potentials, the force on each particle $i$ depends on its position with respect to every other particle $j$:\n",
    "\n",
    "$$m_i\\frac{d^2r_i(t)}{dt^2} = \\sum_jF_{ij}(t) = -\\sum_j\\nabla_i{U(|r_{ij}(t)|)}$$\n",
    "\n",
    "where $r_{ij} = \\sqrt{(x_i - x_j)^2 + (y_i - y_j)^2 + (z_i - z_j)^2}$ is the distance between particle $i$ and $j$, and $i,j \\in (1,N)$. ! Note that this is just the second law of Newton re-framed as a differential equation to highlight the dependence on different quantities.\n",
    "\n",
    "### Example 3.2. Simulation of 3-body problem with Hooke's law:\n",
    "\n",
    "<img src=\"pics/mx.png\" width=\"300\" align=\"right\">\n",
    "\n",
    "We want to know the dynamics of 3 particles ($m = 1$ kg) connected to each other with invisible springs with spring contants of $k_s = 5$ N/m, and having an equilibrium distance of $r_0 = 1$ m. Let's initially place the particles at (0, 2), (2, 0) and (-1, 0) on the 2D plane for the first 10 seconds of their motion. The particles are initially at rest (no velocity).\n",
    "\n",
    "**Hint:**\n",
    "The pairwise potential is (Hooke's Law): $$U(r_{ij}) = \\frac{k_s}{2}(r_{ij} - r_0)^2$$\n",
    "\n",
    "The negative gradient of the potential is a force from $j$-th upon $i$-th: \n",
    "\n",
    "$$\\mathbf{F_{ij}} = - \\nabla_i{U(r_{ij})} = - K_s (r_{ij} - r_0) \\nabla_i r_{ij} = - K_s (r_{ij} - r_0) \\mathbf{r_{ij}} / r_{ij},$$ which is the familiar spring force that acts on the line between two masses. Recall that \\mathbf{r_{ij}} is the unit vector on the line connecting particles $i$ and $j$.\n"
   ]
  },
  {
   "cell_type": "code",
   "execution_count": 4,
   "metadata": {},
   "outputs": [],
   "source": [
    "import numpy as np\n",
    "import matplotlib.pyplot as plt\n",
    "from matplotlib import animation\n",
    "\n",
    "# Setup the figure and axes...\n",
    "fig, ax = plt.subplots(figsize=(3,3), dpi=300, )\n",
    "\n",
    "plt.title('3-body dynamics (no drag)', fontsize=5)\n",
    "plt.xlabel('Position (meters)', fontsize=5)\n",
    "plt.ylabel('Position (meters)', fontsize=5)\n",
    "plt.xlim(-4, 4)\n",
    "plt.ylim(-4, 4)\n",
    "plt.xticks(fontsize=5)\n",
    "plt.yticks(fontsize=5)\n",
    "ax.grid(alpha=0.5, color='gray', ls='--', lw = 1, zorder=10)\n",
    "\n",
    "# parameters of the problem\n",
    "T = 10. # s\n",
    "m = 1.0 # kg\n",
    "ks = 5 # N/m\n",
    "r0 = 1. # m\n",
    "\n",
    "# setting a timestep to be 50 ms\n",
    "dt = 0.05 #s\n",
    "N = int(T / dt)\n",
    "\n",
    "# Allocating arrays for 2D problem: first axis - time. second axis - particle's number. third - coordinate\n",
    "v = np.zeros((N+1, 3, 2))\n",
    "r = np.zeros((N+1, 3, 2))\n",
    "f = np.zeros((N+1, 3, 2))\n",
    "\n",
    "# initial conditions for 3 particles:\n",
    "r[0,0] = np.array([0., 2.])\n",
    "r[0,1] = np.array([2., 0.])\n",
    "r[0,2] = np.array([-1., 0.])\n",
    "\n",
    "def compute_forces(n):\n",
    "    '''The function computes forces on each pearticle at time step n'''\n",
    "    for i in range(3):\n",
    "        for j in range(3):\n",
    "            if i != j:\n",
    "                rij = r[n,i] - r[n,j]\n",
    "                rij_abs = np.linalg.norm(rij)\n",
    "                f[n, i] -= ks * (rij_abs - r0) * rij / rij_abs \n",
    "\n",
    "## Run dynamics:\n",
    "for n in range(N):\n",
    "    compute_forces(n)\n",
    "    v[n+1] = v[n] + f[n]/m * dt\n",
    "    r[n+1] = r[n] + v[n+1] * dt\n",
    "\n",
    "## drawing and animating \n",
    "colors_bupu = ['#f7fcfd', '#e0ecf4', '#bfd3e6', '#9ebcda', '#8c96c6', '#8c6bb1', '#88419d', '#810f7c', '#4d004b']\n",
    "scat = ax.scatter(r[0,:,0], r[0,:,1], marker='o', edgecolor='k', c=[colors_bupu[0], colors_bupu[5], colors_bupu[-1]], s=500, zorder=1001)\n",
    "\n",
    "def animate(i):\n",
    "    scat.set_offsets(r[i])\n",
    "\n",
    "ani = animation.FuncAnimation(fig, animate, frames=N)\n",
    "plt.tight_layout()\n",
    "plt.close()"
   ]
  },
  {
   "cell_type": "markdown",
   "metadata": {},
   "source": [
    "Again, looking at the trajectory representation in real time:"
   ]
  },
  {
   "cell_type": "code",
   "execution_count": 5,
   "metadata": {
    "scrolled": true
   },
   "outputs": [],
   "source": [
    "# create an HTML page with a simulation\n",
    "from IPython.display import HTML\n",
    "HTML(ani.to_jshtml(fps= 1//dt))"
   ]
  },
  {
   "cell_type": "markdown",
   "metadata": {},
   "source": [
    "## Exercise 3.2. 3-body problem with a drag.\n",
    "Introduce drag force to the 3-body problem. Use coefficient $\\gamma = 0.3$ kg/s. Visually compare the dynamics of the dragged particles to the dynamics of particles which did not experience resistance from the medium. "
   ]
  },
  {
   "cell_type": "code",
   "execution_count": 16,
   "metadata": {},
   "outputs": [],
   "source": [
    "# Your code and explanation here"
   ]
  },
  {
   "cell_type": "markdown",
   "metadata": {},
   "source": [
    "## Exercise 3.3. 3-body problem with a drag and initial velocity.\n",
    "Modify the previous code by introducing an initial velocity $v_0 = (0, -0.2)$ for the particle located at position (0, 2). How does the behavior of the system change?"
   ]
  },
  {
   "cell_type": "code",
   "execution_count": null,
   "metadata": {},
   "outputs": [],
   "source": [
    "# Your code and explanation here"
   ]
  },
  {
   "cell_type": "markdown",
   "metadata": {},
   "source": [
    "## Exercise 3.4. Adding a random force.\n",
    "\n",
    "The effect of solvent at specific temperature on particle is usually simulated by a random force $\\vec{R}(t)$. This force is proportional to $k_B T$, where $T$ is temperature of the solvent and $k_B$ - is a Boltzman constant. Brownian motion is an example of this effect. To implement this process in our simulations, we will generate a normally distributed random number ~ $N(0, 1)$ (with $\\mu = 0$ and $\\sigma = 1$) in each dimension for each paticle at every time step, which will represent a random force $\\vec{R}(t)$ at time $t$. \n",
    " \n",
    "With drag and random force, ODE for each particle becomes:\n",
    "\n",
    "$$\\frac{dr(t)}{dt} = v(t)$$\n",
    "\n",
    "$$m\\frac{dv(t)}{dt} = F(t) - \\gamma v(t) + R(t)$$\n",
    "\n",
    "$$R(t) = k_BT N(0,1)$$\n",
    "\n",
    "where $k_B = 1$ and $T = 2$.\n",
    "\n",
    "We use the forward Euler algorithm again: \n",
    "\n",
    "$$ v_{n+1} = v_n + \\frac{F_n}{m} dt - \\frac{\\gamma}{m} v_n dt + \\frac{k_{B}T}{m}N(0, 1) dt$$\n",
    "\n",
    "$$ r_{n+1} = r_n + v_{n+1} dt $$\n"
   ]
  },
  {
   "cell_type": "code",
   "execution_count": null,
   "metadata": {},
   "outputs": [],
   "source": [
    "# Your code and explanation is here:"
   ]
  },
  {
   "cell_type": "markdown",
   "metadata": {},
   "source": [
    "## Exercise 3.5. Analysis of the simulations\n",
    "Analyze particles' dynamics in example 3.2 and exercises 3.2-3.4, with a total of 4 cases: \n",
    "- (i) 3-body with no drag,\n",
    "- (ii) 3-body with a drag, \n",
    "- (iii) 3-body with a drag and an initial velocity,\n",
    "- (iv) 3-body with a drag and a random force.  \n",
    "\n",
    "Plot (1) the position of center of mass $r_{CM}$ (x and y components individually), (2) total kinetic energy $K$, and (3) total mechanical energy $U + K$ of this system as a function of time? Discuss your results."
   ]
  },
  {
   "cell_type": "code",
   "execution_count": null,
   "metadata": {},
   "outputs": [],
   "source": [
    "# Your code and explanation is here:"
   ]
  },
  {
   "cell_type": "markdown",
   "metadata": {},
   "source": [
    "## Hands-on 1. Simulation of a projectile.\n",
    "\n",
    "<img src=\"pics/dinho.jpg\" width=\"30%\" align='right'>\n",
    "Read through sections 2-3 and example 3.1 of the lecture. Write a program that simulates the 2-s motion of a football (soccer ball) ($m = 15$ ounces) kicked by the greatest football player to have ever lived, Ronaldinho. Assume it is kicked from a height of $H=8$ feet (more fun) at speed $V=60$ MPH and at 30 degrees above to the horizontal. Use the drag coefficient $\\gamma$ = 0.02. Using relations from kinematics, create this simulation.\n",
    "\n",
    "**Hint**. Be careful to use SI units!"
   ]
  },
  {
   "cell_type": "code",
   "execution_count": 3,
   "metadata": {},
   "outputs": [],
   "source": [
    "# Your solution here."
   ]
  },
  {
   "cell_type": "markdown",
   "metadata": {},
   "source": [
    "## Hands on 2. Simulation of a 4-body problem.\n",
    "\n",
    "Write a program that simulates the 10-s dynamics of **4** particles, each with $m = 0.5$ kg, initially located at the corners of the square (0,0), (0, 2), (2, 0) and (2, 2) on the 2D plane with initial velocities (0, 0.1), (0, 0.2), (-0.2, 0) and (0.2, -0.25) m/s. The particles are connected to each other with invisible springs with $K_s = 8$ N/m, and $r_0 = 2$ m. Drag coefficient is 0.2. Do not simulate random force. \n",
    "\n",
    "Analyze the system's $r_{CM}$, $K$ and $U$ as a function of time. "
   ]
  },
  {
   "cell_type": "code",
   "execution_count": 18,
   "metadata": {},
   "outputs": [],
   "source": [
    "# Your code and explanation is here:"
   ]
  },
  {
   "cell_type": "markdown",
   "metadata": {},
   "source": [
    "# Break\n",
    "---"
   ]
  },
  {
   "cell_type": "markdown",
   "metadata": {},
   "source": [
    "# Part II. \n",
    "\n",
    "We have just built a pipeline to simulate much larger systems, which have thousands and millions of particles. Characterizing behaviour of such systems is essentially called molecular dynamics (MD) simulations. \n",
    "\n",
    "Molecular dynamics simulations have many applications in various fields, including:\n",
    "\n",
    "- **Structural biology:** MD simulations can be used to study the dynamics of proteins and other biomolecules, allowing researchers to understand their function and behavior at an atomic level. For example, MD simulations have been used to study the binding of drugs to proteins and the dynamics of enzymes.\n",
    "\n",
    "- **Drug discovery:** MD simulations can be used to screen potential drug candidates and predict their binding affinity to a target protein. This can help researchers identify promising drug candidates before they are tested in vitro or in vivo.\n",
    "\n",
    "- **Materials science:** MD simulations can be used to study the properties of materials at the atomic level, allowing researchers to design new materials with specific properties.\n",
    "\n",
    "\n",
    "While we now have a basic knowledge of the purpose and methodology of simulations, we still need to talk aboout important biological systems for which MD simulations are the most useful.\n",
    "\n",
    "---\n",
    "## 4. Proteins, structure and functions <a id='l_proteins'></a>\n",
    "---\n",
    "<img src=\"pics/Protein_structure.png\" width=\"400\" align=\"right\">\n",
    "\n",
    "[Protein structure](https://en.wikipedia.org/wiki/Protein_structure) is the three-dimensional arrangement of atoms in a protein, which is a chain of amino acids. Proteins are polymers – specifically polypeptides – formed from sequences of 20 types of amino acids, the monomers of the polymer. A single amino acid monomer may also be called a residue, indicating a repeating unit of a polymer. To be able to perform their biological function, proteins fold into one or more specific spatial conformations driven by a number of non-covalent interactions such as:\n",
    "\n",
    "- hydrogen bonding \n",
    "- ionic interactions \n",
    "- Van der Waals forces\n",
    "- hydrophobic packing \n",
    "\n",
    "To understand the functions of proteins at a molecular level, it is often necessary to determine their three-dimensional structure using techniques such as X-ray crystallography, NMR spectroscopy, and others.\n",
    "\n",
    "### 4.1 Levels of structure:\n",
    "\n",
    "**Primary structure** of a protein refers to the sequence of amino acids in the polypeptide chain.\n",
    "\n",
    "**Secondary structure** refers to highly regular local sub-structures of the actual polypeptide backbone chain. There are two main types of secondary structure: the α-helix and the β-strand or β-sheets.\n",
    "\n",
    "**Tertiary structure** refers to the three-dimensional structure of monomeric and multimeric protein molecules. The α-helixes and β-sheets are folded into a compact globular structure. \n",
    "\n",
    "**Quaternary structure** is the three-dimensional structure consisting of two or more individual polypeptide chains (subunits) that operate as a single functional unit (multimer).\n",
    "\n",
    "\n",
    "### 4.2 Functions:\n",
    "\n",
    "- *Antibodies* - bind to specific foreign particles, ex: IgG \n",
    "- *Enzymes* - speed up chemical reactions, ex: Lysozyme\n",
    "- *Messengers* - transmit signals, ex: Growth hormone \n",
    "- *Structural components* - support for cells, ex: Tubulin\n",
    "- *Transport/storage* - bind and carry small molecules, ex: Hemoglobin\n",
    "\n",
    "\n",
    "**Lysozyme** is a protein-enzyme (found in tears, saliva, mucus and egg white) that is a part of the innate immune system with antimicrobial activity characterized by the ability to damage the cell wall of bacteria. Bacteria have polysaccharides (sugars) in their cell wall, that bind to the groove, and lysozyme cuts the bond and destroys bacteria.  \n",
    "\n",
    "|  ![Protein Sequence in DNA](pics/LysozymeSequence.png) | ![Protein Structure](pics/LysozymeStructure.gif) | ![Protein Strucure with Sugar](pics/LysozymeRock.gif) |\n",
    "|:-:|:-:|:-:|\n",
    "|  Sequence | Structure | Function  |\n",
    "\n",
    "Figure credit: [C.Ing](https://github.com/cing/HackingStructBiolTalk) and [wikipedia](https://en.wikipedia.org/wiki/Protein_structure)\n"
   ]
  },
  {
   "cell_type": "markdown",
   "metadata": {},
   "source": [
    "---\n",
    "## 5. Molecular Mechanics <a id='l_mm'></a>\n",
    "---\n",
    "\n",
    "Since we now know what proteins are and why these molecular machines are important, we consider the method to model them. The basic idea is to create the same kind of approach as we used in the 3-body simulation. Now, our system consists of thousands particles (atoms of the protein plus atoms of surrounding water) and they all are connected via a complex potential energy function.\n",
    "\n",
    "An all-atom potential energy function $V$ is usually given by the sum of the bonded terms ($V_b$) and non-bonded terms ($V_{nb}$), i.e.\n",
    "\n",
    "$$V = V_{b} + V_{nb},$$\n",
    "\n",
    "where the bonded potential includes the harmonic (covalent) bond part, the harmonic angle and\n",
    "the two types of torsion (dihedral) angles: proper and improper. As it can be seen, these functions are mostly harmonic potentials \n",
    "\n",
    "$$V_{b} = \\sum_{bonds}\\frac{1}{2}K_b(b-b_0)^2 + \\sum_{angles}K_{\\theta}(\\theta-\\theta_0)^2 + \\sum_{dihedrals}K_{\\phi}(1-cos(n\\phi - \\phi_0)) + \\sum_{impropers}K_{\\psi}(\\psi-\\psi_0)^2$$\n",
    "\n",
    "For example, $b$ and $\\theta$ represent the distance between two atoms and the angle between two\n",
    "adjacent bonds; $\\phi$ and $\\psi$ are dihedral (torsion) angles. These can be evaluated for all the\n",
    "atoms from their current positions. Also, $K_b$, $K_\\theta$, $K_\\phi$, and $K_\\psi$ are the spring constants, associated\n",
    "with bond vibrations, bending of bond angles, and conformational fluctuations in dihedral and\n",
    "improper angles around some equilibrium values $b_0$, $\\theta_0$, $\\phi_0$, and $\\psi_0$, respectively. \n",
    "\n",
    "The non-bonded part of the potential energy function is represented by the electrostatic and van der Waals potentials, i.e.\n",
    "\n",
    "$$V_{nb} = \\sum_{i,j}\\left(\\frac{q_{i}q_{j}}{4\\pi\\varepsilon_{0}\\varepsilon r_{ij}} + \\varepsilon_{ij}\\left[\\left(\\frac{\\sigma^{min}_{ij}}{r_{ij}}\\right)^{12}-2\\left(\\frac{\\sigma^{min}_{ij}}{r_{ij}}\\right)^{6}\\right]\\right)$$\n",
    "\n",
    "where $r_{ij}$ is the distance between two interacting atoms, $q_i$ and $q_j$ are their electric charges; $\\varepsilon$ and\n",
    "$\\varepsilon_0$ are electric and dielectric constant; $\\varepsilon_{ij} = \\sqrt{\\varepsilon_i\\varepsilon_j}$ and\n",
    "$\\sigma_{ij} = \\frac{\\sigma_i + \\sigma_j}{2}$ are van der Waals parameters for atoms $i$ and $j$.\n",
    "\n",
    "**Importantly, each force field has its own set of parameters, which are different for different types of atoms.**\n",
    "\n",
    "![](pics/ff.png)\n"
   ]
  },
  {
   "cell_type": "markdown",
   "metadata": {},
   "source": [
    "## 6. Molecular dynamics of proteins <a id='l_md'></a>\n",
    "---\n",
    "\n",
    "[**Molecular dynamics (MD)**](https://en.wikipedia.org/wiki/Molecular_dynamics) is a computer simulation method for studying the physical movements of atoms and molecules, i.e. their dynamical evolution. \n",
    "\n",
    "In the most common version, the trajectories of atoms and molecules are determined by numerically solving Newton's equations of motion for a system of interacting particles, where forces between the particles and their potential energies are often calculated using  [molecular mechanics force fields](#l_mm). \n",
    "\n",
    "\n",
    "\n",
    "Now with all that intellectual equipment, we can start running legit Molecular Dynamics simulations. All we need is an initial structure of the protein and software that computes its dynamics efficiently.\n"
   ]
  },
  {
   "cell_type": "markdown",
   "metadata": {},
   "source": [
    "### Procedure:\n",
    "1. Load initial coordinates of protein atoms (from `*.pdb` file)\n",
    "2. Choose force field parameters (in potential function V from section 5).\n",
    "3. Choose parameters of the experiment: temperature, pressure, box size, solvation, boundary conditions\n",
    "4. Choose integrator, i.e. algorithm for solving equation of motion\n",
    "5. Run simulation, save coordinates time to time (to `*.dcd` file).\n",
    "6. Visualize the trajectory \n",
    "7. Perform the analysis"
   ]
  },
  {
   "cell_type": "markdown",
   "metadata": {},
   "source": [
    "These are the Python libraries we are going to need today:\n",
    "\n",
    "1. [nglview](http://nglviewer.org/nglview/latest/index.html#installation) - module to visualize molecules\n",
    "2. [mdanalysis](https://www.mdanalysis.org/pages/installation_quick_start/) - module to analyze MD trajectory\n",
    "3. [openmm](http://docs.openmm.org/latest/userguide/application.html#installing-openmm) - module to run MD simulation"
   ]
  },
  {
   "cell_type": "code",
   "execution_count": 1,
   "metadata": {},
   "outputs": [],
   "source": [
    "from openmm.app import *\n",
    "from openmm import *\n",
    "from openmm.unit import *\n",
    "from sys import stdout"
   ]
  },
  {
   "cell_type": "code",
   "execution_count": 2,
   "metadata": {},
   "outputs": [
    {
     "name": "stderr",
     "output_type": "stream",
     "text": [
      "Warning: importing 'simtk.openmm' is deprecated.  Import 'openmm' instead.\n"
     ]
    }
   ],
   "source": [
    "from simtk.openmm.app import *\n",
    "from simtk.openmm import *\n",
    "from simtk.unit import *\n",
    "from sys import stdout"
   ]
  },
  {
   "cell_type": "code",
   "execution_count": 56,
   "metadata": {},
   "outputs": [],
   "source": [
    "import MDAnalysis as md\n",
    "# import nglview as ng"
   ]
  },
  {
   "cell_type": "markdown",
   "metadata": {},
   "source": [
    "These files are preloaded to your `data` folder."
   ]
  },
  {
   "cell_type": "code",
   "execution_count": 4,
   "metadata": {},
   "outputs": [],
   "source": [
    "pdb0_file = 'data/villin_water.pdb'\n",
    "pdb1_file = 'data/polyALA.pdb'\n",
    "pdb2_file = 'data/polyGLY.pdb'\n",
    "pdb3_file = 'data/polyGV.pdb'"
   ]
  },
  {
   "cell_type": "markdown",
   "metadata": {},
   "source": [
    "PDB files contain 3D structures of proteins that were resolved by experimental techniques. They can be downloaded from [ProteinDataBank](https://www.wwpdb.org/). Here we can see what a `.pdb` file looks like: "
   ]
  },
  {
   "cell_type": "code",
   "execution_count": 5,
   "metadata": {},
   "outputs": [
    {
     "name": "stdout",
     "output_type": "stream",
     "text": [
      "REMARK   1 CREATED WITH OPENMM 7.3, 2019-02-21\n",
      "\n",
      "ATOM      1  N   ALA A   1     -36.266 -23.426  -2.296  1.00  0.00           N  \n",
      "\n",
      "ATOM      2  H   ALA A   1     -36.618 -24.370  -2.382  1.00  0.00           H  \n",
      "\n",
      "ATOM      3  H2  ALA A   1     -36.620 -23.009  -1.447  1.00  0.00           H  \n",
      "\n",
      "ATOM      4  H3  ALA A   1     -36.591 -22.873  -3.082  1.00  0.00           H  \n",
      "\n",
      "ATOM      5  CA  ALA A   1     -34.817 -23.426  -2.296  1.00  0.00           C  \n",
      "\n",
      "ATOM      6  HA  ALA A   1     -34.451 -23.931  -1.402  1.00  0.00           H  \n",
      "\n",
      "ATOM      7  C   ALA A   1     -34.294 -21.997  -2.296  1.00  0.00           C  \n",
      "\n",
      "ATOM      8  O   ALA A   1     -34.784 -21.155  -3.046  1.00  0.00           O  \n",
      "\n",
      "ATOM      9  CB  ALA A   1     -34.255 -24.128  -3.529  1.00  0.00           C  \n",
      "\n"
     ]
    }
   ],
   "source": [
    "file0 = open(pdb1_file, 'r')\n",
    "counter = 0\n",
    "for line in file0:\n",
    "    if counter < 10:\n",
    "        print(line)\n",
    "    counter += 1"
   ]
  },
  {
   "cell_type": "markdown",
   "metadata": {},
   "source": [
    "We can look at the protein in ChimeraX by downloading the structure (.pdb) file:"
   ]
  },
  {
   "cell_type": "code",
   "execution_count": 7,
   "metadata": {
    "scrolled": true
   },
   "outputs": [],
   "source": [
    "u = md.Universe(pdb1_file)\n",
    "# ng.show_mdanalysis(u, gui=True)"
   ]
  },
  {
   "cell_type": "markdown",
   "metadata": {},
   "source": [
    "### Example 6.1. MD simulation of a peptide folding into alpha-helix\n",
    "---\n",
    "\n",
    "Run a simulation of fully extended polyalanine `polyALA.pdb` for 400 picoseconds in a implicit solvent environment with T=300 K and see if it can fold to any secondary  structure:"
   ]
  },
  {
   "cell_type": "code",
   "execution_count": 8,
   "metadata": {},
   "outputs": [
    {
     "name": "stdout",
     "output_type": "stream",
     "text": [
      "Total timesteps =  200000.0\n"
     ]
    }
   ],
   "source": [
    "# 1.loading initial coordinates\n",
    "pdb = PDBFile(pdb1_file) \n",
    "\n",
    "# 2.choosing a forcefield parameters\n",
    "ff = ForceField('amber14-all.xml')  \n",
    "system = ff.createSystem(\n",
    "    pdb.topology, \n",
    "    nonbondedMethod=CutoffNonPeriodic\n",
    ")\n",
    "\n",
    "# 3. Choose parameters of the experiment: temperature, pressure, box size, solvation, boundary conditions, etc\n",
    "temperature = 300 * kelvin\n",
    "frictionCoeff = 1. / picosecond\n",
    "time_step = 0.002 * picoseconds\n",
    "total_steps = 400 * picoseconds / time_step\n",
    "\n",
    "print('Total timesteps = ', total_steps)\n",
    "\n",
    "# 4. Choose an algorithm (integrator)\n",
    "integrator = LangevinIntegrator(temperature, frictionCoeff, time_step)"
   ]
  },
  {
   "cell_type": "markdown",
   "metadata": {},
   "source": [
    "![](pics/Langevin.png)"
   ]
  },
  {
   "cell_type": "code",
   "execution_count": 9,
   "metadata": {},
   "outputs": [],
   "source": [
    "# 5. Run simulation, saving coordinates time to time:\n",
    "\n",
    "# 5a. Create a simulation object\n",
    "simulation = Simulation(pdb.topology, system, integrator)\n",
    "simulation.context.setPositions(pdb.positions)\n",
    "\n",
    "# 5b. Minimize energy\n",
    "simulation.minimizeEnergy()\n",
    "\n",
    "# 5c. Save coordinates to dcd file and energies to a standard output console:\n",
    "simulation.reporters.append(XTCReporter('data/polyALA_traj.xtc', 1000))\n",
    "simulation.reporters.append(StateDataReporter(\n",
    "    stdout,\n",
    "    5000,\n",
    "    step=True, \n",
    "    potentialEnergy=True,\n",
    "    temperature=True,\n",
    "    progress=True,\n",
    "    totalSteps = total_steps\n",
    "))"
   ]
  },
  {
   "cell_type": "code",
   "execution_count": 10,
   "metadata": {
    "scrolled": true
   },
   "outputs": [
    {
     "name": "stdout",
     "output_type": "stream",
     "text": [
      "#\"Progress (%)\",\"Step\",\"Potential Energy (kJ/mole)\",\"Temperature (K)\"\n",
      "2.5%,5000,5341.140106201172,307.98717673272085\n",
      "5.0%,10000,5224.762390136719,300.0501379855213\n",
      "7.5%,15000,5387.2144775390625,284.28808671393136\n",
      "10.0%,20000,5121.378234863281,283.3932794494708\n",
      "12.5%,25000,5050.744598388672,326.8543638456082\n",
      "15.0%,30000,5081.46240234375,269.92181805157327\n",
      "17.5%,35000,5017.507751464844,270.9069171513548\n",
      "20.0%,40000,5136.683532714844,269.31665475804687\n",
      "22.5%,45000,4992.164947509766,312.79954885664927\n",
      "25.0%,50000,5035.96435546875,318.89134574238597\n",
      "27.5%,55000,4907.399475097656,294.80797497570177\n",
      "30.0%,60000,4862.6044921875,313.83513447522074\n",
      "32.5%,65000,4872.700866699219,318.03839516391395\n",
      "35.0%,70000,4818.962951660156,312.7712156124561\n",
      "37.5%,75000,4879.077331542969,273.981421431457\n",
      "40.0%,80000,4898.499572753906,293.9564380097993\n",
      "42.5%,85000,4842.8468017578125,296.5479084554486\n",
      "45.0%,90000,4820.805419921875,310.63387784373657\n",
      "47.5%,95000,4790.25537109375,335.82737182822564\n",
      "50.0%,100000,4830.949523925781,321.31951588931565\n",
      "52.5%,105000,4654.1591796875,286.3227901500613\n",
      "55.0%,110000,4466.69775390625,284.8506014545397\n",
      "57.5%,115000,4539.094299316406,308.0798294104612\n",
      "60.0%,120000,4515.277160644531,301.71382133811284\n",
      "62.5%,125000,4453.529296875,274.4806207521152\n",
      "65.0%,130000,4450.342224121094,333.7908273030255\n",
      "67.5%,135000,4448.736633300781,280.1624154207599\n",
      "70.0%,140000,4483.6715087890625,297.7620605099337\n",
      "72.5%,145000,4367.627136230469,307.825707994909\n",
      "75.0%,150000,4422.311706542969,299.477334232891\n",
      "77.5%,155000,4442.9224853515625,330.9330459860344\n",
      "80.0%,160000,4446.1907958984375,321.1952023682175\n",
      "82.5%,165000,4406.443359375,279.43462346759713\n",
      "85.0%,170000,4455.586853027344,315.0415815527301\n",
      "87.5%,175000,4440.0833740234375,306.0427968675617\n",
      "90.0%,180000,4371.296203613281,310.32310858718876\n",
      "92.5%,185000,4475.132507324219,319.7281728801809\n",
      "95.0%,190000,4499.138366699219,278.96000604654523\n",
      "97.5%,195000,4369.7314453125,299.7292351415083\n",
      "100.0%,200000,4366.2003173828125,299.8393644059715\n"
     ]
    }
   ],
   "source": [
    "# 5d. Run!\n",
    "simulation.step(total_steps)"
   ]
  },
  {
   "cell_type": "markdown",
   "metadata": {},
   "source": [
    "**Visualization**\n",
    "\n",
    "Let's look at the trajectory:"
   ]
  },
  {
   "cell_type": "code",
   "execution_count": 11,
   "metadata": {
    "scrolled": true
   },
   "outputs": [
    {
     "name": "stderr",
     "output_type": "stream",
     "text": [
      "C:\\Users\\wular\\anaconda3\\envs\\inspire24\\Lib\\site-packages\\MDAnalysis\\coordinates\\DCD.py:165: DeprecationWarning: DCDReader currently makes independent timesteps by copying self.ts while other readers update self.ts inplace. This behavior will be changed in 3.0 to be the same as other readers. Read more at https://github.com/MDAnalysis/mdanalysis/issues/3889 to learn if this change in behavior might affect you.\n",
      "  warnings.warn(\"DCDReader currently makes independent timesteps\"\n"
     ]
    }
   ],
   "source": [
    "# 6. Visualization\n",
    "sys = md.Universe(pdb1_file, 'data/polyALA_traj.dcd')\n",
    "# ng.show_mdanalysis(sys, gui=True)"
   ]
  },
  {
   "cell_type": "markdown",
   "metadata": {},
   "source": [
    "### Example 6.2. Analysis of MD simulation conditions\n",
    "\n",
    "Let's plot temperature $T$ and potential energy $V$ vs time:"
   ]
  },
  {
   "cell_type": "code",
   "execution_count": 6,
   "metadata": {},
   "outputs": [],
   "source": [
    "# Let's copy the text output of the simulation into a new file 'data/output.csv':\n",
    "import numpy as np\n",
    "import matplotlib.pyplot as plt\n",
    "\n",
    "output = np.loadtxt('data/output.csv', delimiter=',', usecols=[1,2,3], dtype=float)\n",
    "\n",
    "time = output[:, 0] * 0.002\n",
    "energy_V = output[:, 1]\n",
    "temperature_T = output[:, 2]\n",
    "\n",
    "plt.figure(figsize=(4, 2), dpi=300)\n",
    "plt.plot(time, temperature_T, color='k')\n",
    "plt.xlabel('time (ps)', fontsize=5)\n",
    "plt.ylabel('Temperature (K)', fontsize=5)\n",
    "plt.xticks(fontsize=5)\n",
    "plt.yticks(fontsize=5)\n",
    "plt.tight_layout()\n",
    "plt.show()\n",
    "\n",
    "plt.figure(figsize=(4, 2), dpi=300)\n",
    "plt.plot(time, energy_V, label='$V$', color='maroon')\n",
    "plt.ylabel('Potential energy (kJ/mol)', fontsize=5)\n",
    "plt.xlabel('time (ps)', fontsize=5)\n",
    "plt.xticks(fontsize=5)\n",
    "plt.yticks(fontsize=5)\n",
    "plt.tight_layout()\n",
    "plt.show()\n"
   ]
  },
  {
   "cell_type": "markdown",
   "metadata": {},
   "source": [
    "### Exercise 6.3. Structure prediction\n",
    "---\n",
    "Find several online tools that predict protein structure given a sequence: `AAAAAAAAAAAAAAAAAAAAAAAAA`. Test some of them and compare with the results of your simulation. How well do they agree?\n",
    "\n",
    "Examples: RaptorX, RosettaFold, AlphaFold, etc."
   ]
  },
  {
   "cell_type": "code",
   "execution_count": null,
   "metadata": {},
   "outputs": [],
   "source": []
  },
  {
   "cell_type": "markdown",
   "metadata": {},
   "source": [
    "### Example 6.2. Analysis of MD trajectory.\n",
    "---\n",
    "Now we can carry out the analysis of the simulation. Let's look at the protein end-to-end distance over time.\n",
    "**End-to-end distance**:"
   ]
  },
  {
   "cell_type": "code",
   "execution_count": 13,
   "metadata": {},
   "outputs": [],
   "source": [
    "### analysis of end-to-end distance\n",
    "\n",
    "## choose terminal atoms \n",
    "N_terminus = sys.select_atoms('resid 1 and name N')\n",
    "C_terminus = sys.select_atoms('resid 25 and name C')\n",
    "\n",
    "## go through the whole trajectory and compute distance between them for every frame\n",
    "dist = []\n",
    "for frame in sys.trajectory:\n",
    "    dist.append(np.linalg.norm(N_terminus.positions - C_terminus.positions))\n",
    "\n",
    "## the result is in the dist array    \n",
    "dist = np.array(dist) "
   ]
  },
  {
   "cell_type": "markdown",
   "metadata": {},
   "source": [
    "We can plot end-to-end distance vs time:"
   ]
  },
  {
   "cell_type": "code",
   "execution_count": 7,
   "metadata": {},
   "outputs": [],
   "source": [
    "plt.figure(figsize=(4, 1), dpi=300)\n",
    "\n",
    "plt.plot( dist, '-k' )\n",
    "plt.xlabel('timesteps', fontsize=5)\n",
    "plt.xticks(fontsize=5)\n",
    "plt.yticks(fontsize=5)\n",
    "plt.ylabel(r'end-to-end distance, ($\\AA$)', fontsize=5)\n",
    "\n",
    "plt.show()"
   ]
  },
  {
   "cell_type": "markdown",
   "metadata": {},
   "source": [
    "**[Ramachandran plot](https://en.wikipedia.org/wiki/Ramachandran_plot):**"
   ]
  },
  {
   "cell_type": "code",
   "execution_count": 8,
   "metadata": {},
   "outputs": [],
   "source": [
    "from MDAnalysis.analysis import dihedrals  ## module for dihedrals analysis\n",
    "\n",
    "ram1 = dihedrals.Ramachandran(sys).run(0,30) ## analyse for first 30 steps (black color)\n",
    "ram2 = dihedrals.Ramachandran(sys).run(170,200) ## analyse for last 30 steps (blue color)\n",
    "\n",
    "## ramachandran plot\n",
    "fig, ax = plt.subplots(figsize=(8,8))\n",
    "ram1.plot(ax=ax, color='steelblue', edgecolor='k', lw=0.5)\n",
    "ram2.plot(ax=ax, color='skyblue', edgecolor='k', lw=0.5)\n",
    "ax.arrow(20, 20, -40, -40, width=2, head_width=8, head_length=12, fc='skyblue', ec='k')\n",
    "ax.text(30, 20, 'alpha region', color='skyblue', fontsize=20)\n",
    "ax.arrow(20, 150, -40, 0, width=2, head_width=8, head_length=12, fc='steelblue', ec='k')\n",
    "ax.text(30, 145, 'beta region', fontsize=20, color = 'steelblue')"
   ]
  },
  {
   "cell_type": "markdown",
   "metadata": {},
   "source": [
    "<hr>"
   ]
  },
  {
   "cell_type": "markdown",
   "metadata": {},
   "source": [
    "## Hands-on 3. Your first MD simulation.\n",
    "\n",
    "Read through section 6 and example 6.1-6.2 of the lecture. Run 3 simulations of fully extended polyglycine `data/polyGLY.pdb` for 1 nanosecond (where water is described implicitly) at $T_1=200 K$, $T_2=300 K$, and $T_3=400 K$ and visually compare initial and the final structure at each temperature. Perform a quantitative analysis of the trajectories you obtained in Exercise 3. Use, for example, the end-to-end distance and the function `radius_of_gyration()` from the `MDAnalysis` module, which returns the [radius of gyration](https://en.wikipedia.org/wiki/Radius_of_gyration) of the protein. Describe the dependence of folding rate on the temperature. Explain."
   ]
  },
  {
   "cell_type": "code",
   "execution_count": null,
   "metadata": {},
   "outputs": [],
   "source": [
    "# Similar to Example 6.1"
   ]
  }
 ],
 "metadata": {
  "kernelspec": {
   "display_name": "inspire24",
   "language": "python",
   "name": "inspire24"
  },
  "language_info": {
   "codemirror_mode": {
    "name": "ipython",
    "version": 3
   },
   "file_extension": ".py",
   "mimetype": "text/x-python",
   "name": "python",
   "nbconvert_exporter": "python",
   "pygments_lexer": "ipython3",
   "version": "3.12.4"
  }
 },
 "nbformat": 4,
 "nbformat_minor": 4
}
